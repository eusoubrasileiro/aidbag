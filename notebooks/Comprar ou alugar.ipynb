{
 "cells": [
  {
   "cell_type": "code",
   "execution_count": 1,
   "metadata": {},
   "outputs": [],
   "source": [
    "import numpy as np"
   ]
  },
  {
   "cell_type": "markdown",
   "metadata": {},
   "source": [
    "### Financiamento ou aluguel por **X** anos qual dá o melhor valor presente?"
   ]
  },
  {
   "cell_type": "code",
   "execution_count": null,
   "metadata": {},
   "outputs": [],
   "source": [
    "from matplotlib import pyplot as plt"
   ]
  },
  {
   "cell_type": "code",
   "execution_count": null,
   "metadata": {},
   "outputs": [],
   "source": [
    "%matplotlib inline"
   ]
  },
  {
   "cell_type": "code",
   "execution_count": 4,
   "metadata": {},
   "outputs": [
    {
     "data": {
      "text/plain": [
       "'D:\\\\Users\\\\andre.ferreira\\\\Documents\\\\sandbox'"
      ]
     },
     "execution_count": 4,
     "metadata": {},
     "output_type": "execute_result"
    }
   ],
   "source": [
    "pwd"
   ]
  },
  {
   "cell_type": "code",
   "execution_count": 5,
   "metadata": {},
   "outputs": [],
   "source": [
    "import pandas as pd"
   ]
  },
  {
   "cell_type": "markdown",
   "metadata": {},
   "source": [
    "### IGPM mensal dados históricos de 1995 à 2018\n",
    "\n",
    "https://www.sei.ba.gov.br/images/indicadores_especiais/xls/outros_indices/ind_outros_igp_m.xls"
   ]
  },
  {
   "cell_type": "code",
   "execution_count": 6,
   "metadata": {},
   "outputs": [],
   "source": [
    "igpm = pd.read_excel('ind_outros_igp_m.xlsx') # IGPM"
   ]
  },
  {
   "cell_type": "code",
   "execution_count": 7,
   "metadata": {},
   "outputs": [
    {
     "name": "stdout",
     "output_type": "stream",
     "text": [
      "[1995 1996 1997 1998 1999 2000 2001 2002 2003 2004 2005 2006 2007 2008\n",
      " 2009 2010 2011 2012 2013 2014 2015 2016 2017 2018]\n"
     ]
    }
   ],
   "source": [
    "anos = igpm['Período'].values\n",
    "print(anos)"
   ]
  },
  {
   "cell_type": "code",
   "execution_count": 8,
   "metadata": {},
   "outputs": [],
   "source": [
    "igpm = igpm.drop(columns=['Período'])"
   ]
  },
  {
   "cell_type": "code",
   "execution_count": 9,
   "metadata": {},
   "outputs": [
    {
     "data": {
      "text/html": [
       "<div>\n",
       "<style scoped>\n",
       "    .dataframe tbody tr th:only-of-type {\n",
       "        vertical-align: middle;\n",
       "    }\n",
       "\n",
       "    .dataframe tbody tr th {\n",
       "        vertical-align: top;\n",
       "    }\n",
       "\n",
       "    .dataframe thead th {\n",
       "        text-align: right;\n",
       "    }\n",
       "</style>\n",
       "<table border=\"1\" class=\"dataframe\">\n",
       "  <thead>\n",
       "    <tr style=\"text-align: right;\">\n",
       "      <th></th>\n",
       "      <th>Janeiro</th>\n",
       "      <th>Fevereiro</th>\n",
       "      <th>Março</th>\n",
       "      <th>Abril</th>\n",
       "      <th>Maio</th>\n",
       "      <th>Junho</th>\n",
       "      <th>Julho</th>\n",
       "      <th>Agosto</th>\n",
       "      <th>Setembro</th>\n",
       "      <th>Outubro</th>\n",
       "      <th>Novembro</th>\n",
       "      <th>Dezembro</th>\n",
       "    </tr>\n",
       "  </thead>\n",
       "  <tbody>\n",
       "    <tr>\n",
       "      <th>0</th>\n",
       "      <td>0.92</td>\n",
       "      <td>1.39</td>\n",
       "      <td>1.12</td>\n",
       "      <td>2.10</td>\n",
       "      <td>0.58</td>\n",
       "      <td>2.46</td>\n",
       "      <td>1.82</td>\n",
       "      <td>2.20</td>\n",
       "      <td>-0.71</td>\n",
       "      <td>0.52</td>\n",
       "      <td>1.20</td>\n",
       "      <td>0.71</td>\n",
       "    </tr>\n",
       "    <tr>\n",
       "      <th>1</th>\n",
       "      <td>1.73</td>\n",
       "      <td>0.97</td>\n",
       "      <td>0.40</td>\n",
       "      <td>0.32</td>\n",
       "      <td>1.55</td>\n",
       "      <td>1.02</td>\n",
       "      <td>1.35</td>\n",
       "      <td>0.28</td>\n",
       "      <td>0.10</td>\n",
       "      <td>0.19</td>\n",
       "      <td>0.20</td>\n",
       "      <td>0.73</td>\n",
       "    </tr>\n",
       "    <tr>\n",
       "      <th>2</th>\n",
       "      <td>1.77</td>\n",
       "      <td>0.43</td>\n",
       "      <td>1.15</td>\n",
       "      <td>0.68</td>\n",
       "      <td>0.21</td>\n",
       "      <td>0.74</td>\n",
       "      <td>0.09</td>\n",
       "      <td>0.09</td>\n",
       "      <td>0.48</td>\n",
       "      <td>0.37</td>\n",
       "      <td>0.64</td>\n",
       "      <td>0.84</td>\n",
       "    </tr>\n",
       "    <tr>\n",
       "      <th>3</th>\n",
       "      <td>0.96</td>\n",
       "      <td>0.18</td>\n",
       "      <td>0.19</td>\n",
       "      <td>0.13</td>\n",
       "      <td>0.14</td>\n",
       "      <td>0.38</td>\n",
       "      <td>-0.17</td>\n",
       "      <td>-0.16</td>\n",
       "      <td>-0.08</td>\n",
       "      <td>0.08</td>\n",
       "      <td>-0.32</td>\n",
       "      <td>0.45</td>\n",
       "    </tr>\n",
       "    <tr>\n",
       "      <th>4</th>\n",
       "      <td>0.84</td>\n",
       "      <td>3.61</td>\n",
       "      <td>2.83</td>\n",
       "      <td>0.71</td>\n",
       "      <td>-0.29</td>\n",
       "      <td>0.36</td>\n",
       "      <td>1.55</td>\n",
       "      <td>1.56</td>\n",
       "      <td>1.45</td>\n",
       "      <td>1.70</td>\n",
       "      <td>2.39</td>\n",
       "      <td>1.81</td>\n",
       "    </tr>\n",
       "  </tbody>\n",
       "</table>\n",
       "</div>"
      ],
      "text/plain": [
       "   Janeiro  Fevereiro  Março  Abril  Maio  Junho  Julho  Agosto  Setembro  \\\n",
       "0     0.92       1.39   1.12   2.10  0.58   2.46   1.82    2.20     -0.71   \n",
       "1     1.73       0.97   0.40   0.32  1.55   1.02   1.35    0.28      0.10   \n",
       "2     1.77       0.43   1.15   0.68  0.21   0.74   0.09    0.09      0.48   \n",
       "3     0.96       0.18   0.19   0.13  0.14   0.38  -0.17   -0.16     -0.08   \n",
       "4     0.84       3.61   2.83   0.71 -0.29   0.36   1.55    1.56      1.45   \n",
       "\n",
       "   Outubro  Novembro  Dezembro  \n",
       "0     0.52      1.20      0.71  \n",
       "1     0.19      0.20      0.73  \n",
       "2     0.37      0.64      0.84  \n",
       "3     0.08     -0.32      0.45  \n",
       "4     1.70      2.39      1.81  "
      ]
     },
     "execution_count": 9,
     "metadata": {},
     "output_type": "execute_result"
    }
   ],
   "source": [
    "igpm.head()"
   ]
  },
  {
   "cell_type": "code",
   "execution_count": 10,
   "metadata": {},
   "outputs": [],
   "source": [
    "igpm = igpm.values.ravel()"
   ]
  },
  {
   "cell_type": "code",
   "execution_count": 11,
   "metadata": {},
   "outputs": [],
   "source": [
    "range_months = pd.date_range(start=str(anos[0]), end=str(anos[-1]+1), freq='M')"
   ]
  },
  {
   "cell_type": "code",
   "execution_count": 12,
   "metadata": {},
   "outputs": [
    {
     "data": {
      "text/plain": [
       "DatetimeIndex(['2017-12-31', '2018-01-31', '2018-02-28', '2018-03-31',\n",
       "               '2018-04-30', '2018-05-31', '2018-06-30', '2018-07-31',\n",
       "               '2018-08-31', '2018-09-30', '2018-10-31', '2018-11-30',\n",
       "               '2018-12-31'],\n",
       "              dtype='datetime64[ns]', freq='M')"
      ]
     },
     "execution_count": 12,
     "metadata": {},
     "output_type": "execute_result"
    }
   ],
   "source": [
    "range_months[-13:]"
   ]
  },
  {
   "cell_type": "code",
   "execution_count": 13,
   "metadata": {},
   "outputs": [
    {
     "data": {
      "text/plain": [
       "(288, 288)"
      ]
     },
     "execution_count": 13,
     "metadata": {},
     "output_type": "execute_result"
    }
   ],
   "source": [
    "len(igpm), len(range_months)"
   ]
  },
  {
   "cell_type": "code",
   "execution_count": 14,
   "metadata": {},
   "outputs": [],
   "source": [
    "igpm = pd.Series(igpm, index=range_months)"
   ]
  },
  {
   "cell_type": "code",
   "execution_count": 15,
   "metadata": {
    "scrolled": true
   },
   "outputs": [
    {
     "data": {
      "text/plain": [
       "<matplotlib.axes._subplots.AxesSubplot at 0x199440200b8>"
      ]
     },
     "execution_count": 15,
     "metadata": {},
     "output_type": "execute_result"
    },
    {
     "data": {
      "image/png": "[encoded data removed]",
      "text/plain": [
       "<Figure size 1008x216 with 1 Axes>"
      ]
     },
     "metadata": {
      "needs_background": "light"
     },
     "output_type": "display_data"
    }
   ],
   "source": [
    "plt.figure(figsize=(14,3))\n",
    "igpm.plot()"
   ]
  },
  {
   "cell_type": "markdown",
   "metadata": {},
   "source": [
    "### Inflação média histórica 10 anos - mensal"
   ]
  },
  {
   "cell_type": "markdown",
   "metadata": {},
   "source": [
    "Taxa de inflação media mensal 2009 a 2018.  \n",
    "\n",
    "1. Considerando a economia pós crise de 2008. \n",
    "2. Considerando o pais mais adaptado ao plano real.  "
   ]
  },
  {
   "cell_type": "code",
   "execution_count": 16,
   "metadata": {},
   "outputs": [
    {
     "data": {
      "text/plain": [
       "array([2009, 2010, 2011, 2012, 2013, 2014, 2015, 2016, 2017, 2018],\n",
       "      dtype=int64)"
      ]
     },
     "execution_count": 16,
     "metadata": {},
     "output_type": "execute_result"
    }
   ],
   "source": [
    "anos[-10:]"
   ]
  },
  {
   "cell_type": "code",
   "execution_count": 17,
   "metadata": {},
   "outputs": [
    {
     "data": {
      "text/plain": [
       "0.004562773733447711"
      ]
     },
     "execution_count": 17,
     "metadata": {},
     "output_type": "execute_result"
    }
   ],
   "source": [
    "# igpm médio últimos 10 anos\n",
    "txigpm = (np.prod(igpm[-10*12:]*0.01+1.))**(1/(len(anos[-10:])*12))-1\n",
    "txigpm"
   ]
  },
  {
   "cell_type": "markdown",
   "metadata": {},
   "source": [
    "### Inflação média histórica 10 anos - anual"
   ]
  },
  {
   "cell_type": "code",
   "execution_count": 18,
   "metadata": {},
   "outputs": [
    {
     "data": {
      "text/plain": [
       "0.056148446824465736"
      ]
     },
     "execution_count": 18,
     "metadata": {},
     "output_type": "execute_result"
    }
   ],
   "source": [
    "(txigpm+1)**12-1"
   ]
  },
  {
   "cell_type": "markdown",
   "metadata": {},
   "source": [
    "### CDI mensal  - Cetip dados históricos 1995 à 2018\n",
    "\n",
    "https://www.portalbrasil.net/indices_cdi.htm"
   ]
  },
  {
   "cell_type": "code",
   "execution_count": 19,
   "metadata": {},
   "outputs": [],
   "source": [
    "cdi = pd.read_excel('cetip_cdi_mensal.xlsx', usecols=np.arange(1, 1+len(anos))) # CDI"
   ]
  },
  {
   "cell_type": "code",
   "execution_count": 20,
   "metadata": {},
   "outputs": [
    {
     "data": {
      "text/html": [
       "<div>\n",
       "<style scoped>\n",
       "    .dataframe tbody tr th:only-of-type {\n",
       "        vertical-align: middle;\n",
       "    }\n",
       "\n",
       "    .dataframe tbody tr th {\n",
       "        vertical-align: top;\n",
       "    }\n",
       "\n",
       "    .dataframe thead th {\n",
       "        text-align: right;\n",
       "    }\n",
       "</style>\n",
       "<table border=\"1\" class=\"dataframe\">\n",
       "  <thead>\n",
       "    <tr style=\"text-align: right;\">\n",
       "      <th></th>\n",
       "      <th>2018</th>\n",
       "      <th>2017</th>\n",
       "      <th>2016</th>\n",
       "      <th>2015</th>\n",
       "      <th>2014</th>\n",
       "      <th>2013</th>\n",
       "      <th>2012</th>\n",
       "      <th>2011</th>\n",
       "      <th>2010</th>\n",
       "      <th>2009</th>\n",
       "      <th>...</th>\n",
       "      <th>2004</th>\n",
       "      <th>2003</th>\n",
       "      <th>2002</th>\n",
       "      <th>2001</th>\n",
       "      <th>2000</th>\n",
       "      <th>1999</th>\n",
       "      <th>1998</th>\n",
       "      <th>1997</th>\n",
       "      <th>1996</th>\n",
       "      <th>1995</th>\n",
       "    </tr>\n",
       "  </thead>\n",
       "  <tbody>\n",
       "    <tr>\n",
       "      <th>0</th>\n",
       "      <td>0.5833</td>\n",
       "      <td>1.0846</td>\n",
       "      <td>1.0549</td>\n",
       "      <td>0.9293</td>\n",
       "      <td>0.8397</td>\n",
       "      <td>0.5866</td>\n",
       "      <td>0.8853</td>\n",
       "      <td>0.8606</td>\n",
       "      <td>0.6582</td>\n",
       "      <td>1.0427</td>\n",
       "      <td>...</td>\n",
       "      <td>1.26</td>\n",
       "      <td>1.97</td>\n",
       "      <td>1.53</td>\n",
       "      <td>1.26</td>\n",
       "      <td>1.44</td>\n",
       "      <td>2.17</td>\n",
       "      <td>2.67</td>\n",
       "      <td>1.74</td>\n",
       "      <td>2.56</td>\n",
       "      <td>3.47</td>\n",
       "    </tr>\n",
       "    <tr>\n",
       "      <th>1</th>\n",
       "      <td>0.4649</td>\n",
       "      <td>0.8638</td>\n",
       "      <td>1.0014</td>\n",
       "      <td>0.8185</td>\n",
       "      <td>0.7826</td>\n",
       "      <td>0.4815</td>\n",
       "      <td>0.7415</td>\n",
       "      <td>0.8424</td>\n",
       "      <td>0.5925</td>\n",
       "      <td>0.8527</td>\n",
       "      <td>...</td>\n",
       "      <td>1.08</td>\n",
       "      <td>1.83</td>\n",
       "      <td>1.25</td>\n",
       "      <td>1.01</td>\n",
       "      <td>1.44</td>\n",
       "      <td>2.35</td>\n",
       "      <td>2.11</td>\n",
       "      <td>1.65</td>\n",
       "      <td>2.31</td>\n",
       "      <td>3.23</td>\n",
       "    </tr>\n",
       "    <tr>\n",
       "      <th>2</th>\n",
       "      <td>0.5315</td>\n",
       "      <td>1.0504</td>\n",
       "      <td>1.1605</td>\n",
       "      <td>1.0361</td>\n",
       "      <td>0.7599</td>\n",
       "      <td>0.5377</td>\n",
       "      <td>0.8083</td>\n",
       "      <td>0.9188</td>\n",
       "      <td>0.7569</td>\n",
       "      <td>0.9665</td>\n",
       "      <td>...</td>\n",
       "      <td>1.37</td>\n",
       "      <td>1.77</td>\n",
       "      <td>1.37</td>\n",
       "      <td>1.25</td>\n",
       "      <td>1.44</td>\n",
       "      <td>3.28</td>\n",
       "      <td>2.18</td>\n",
       "      <td>1.63</td>\n",
       "      <td>2.20</td>\n",
       "      <td>4.41</td>\n",
       "    </tr>\n",
       "    <tr>\n",
       "      <th>3</th>\n",
       "      <td>0.5175</td>\n",
       "      <td>0.7852</td>\n",
       "      <td>1.0544</td>\n",
       "      <td>0.9482</td>\n",
       "      <td>0.8154</td>\n",
       "      <td>0.6008</td>\n",
       "      <td>0.6999</td>\n",
       "      <td>0.8388</td>\n",
       "      <td>0.6639</td>\n",
       "      <td>0.8356</td>\n",
       "      <td>...</td>\n",
       "      <td>1.17</td>\n",
       "      <td>1.87</td>\n",
       "      <td>1.48</td>\n",
       "      <td>1.18</td>\n",
       "      <td>1.28</td>\n",
       "      <td>2.28</td>\n",
       "      <td>1.69</td>\n",
       "      <td>1.65</td>\n",
       "      <td>2.03</td>\n",
       "      <td>4.22</td>\n",
       "    </tr>\n",
       "    <tr>\n",
       "      <th>4</th>\n",
       "      <td>0.5175</td>\n",
       "      <td>0.9255</td>\n",
       "      <td>1.1074</td>\n",
       "      <td>0.9838</td>\n",
       "      <td>0.8582</td>\n",
       "      <td>0.5848</td>\n",
       "      <td>0.7324</td>\n",
       "      <td>0.9852</td>\n",
       "      <td>0.7500</td>\n",
       "      <td>0.7664</td>\n",
       "      <td>...</td>\n",
       "      <td>1.22</td>\n",
       "      <td>1.96</td>\n",
       "      <td>1.40</td>\n",
       "      <td>1.33</td>\n",
       "      <td>1.49</td>\n",
       "      <td>1.96</td>\n",
       "      <td>1.63</td>\n",
       "      <td>1.58</td>\n",
       "      <td>2.00</td>\n",
       "      <td>4.27</td>\n",
       "    </tr>\n",
       "    <tr>\n",
       "      <th>5</th>\n",
       "      <td>0.5175</td>\n",
       "      <td>0.8081</td>\n",
       "      <td>1.1605</td>\n",
       "      <td>1.0658</td>\n",
       "      <td>0.8174</td>\n",
       "      <td>0.5919</td>\n",
       "      <td>0.6385</td>\n",
       "      <td>0.9526</td>\n",
       "      <td>0.7908</td>\n",
       "      <td>0.7514</td>\n",
       "      <td>...</td>\n",
       "      <td>1.22</td>\n",
       "      <td>1.85</td>\n",
       "      <td>1.31</td>\n",
       "      <td>1.27</td>\n",
       "      <td>1.39</td>\n",
       "      <td>1.64</td>\n",
       "      <td>1.60</td>\n",
       "      <td>1.59</td>\n",
       "      <td>1.94</td>\n",
       "      <td>4.05</td>\n",
       "    </tr>\n",
       "    <tr>\n",
       "      <th>6</th>\n",
       "      <td>0.5422</td>\n",
       "      <td>0.7971</td>\n",
       "      <td>1.1074</td>\n",
       "      <td>1.1773</td>\n",
       "      <td>0.9404</td>\n",
       "      <td>0.7087</td>\n",
       "      <td>0.6754</td>\n",
       "      <td>0.9665</td>\n",
       "      <td>0.8592</td>\n",
       "      <td>0.7840</td>\n",
       "      <td>...</td>\n",
       "      <td>1.28</td>\n",
       "      <td>2.08</td>\n",
       "      <td>1.54</td>\n",
       "      <td>1.50</td>\n",
       "      <td>1.30</td>\n",
       "      <td>1.62</td>\n",
       "      <td>1.69</td>\n",
       "      <td>1.54</td>\n",
       "      <td>1.91</td>\n",
       "      <td>4.01</td>\n",
       "    </tr>\n",
       "    <tr>\n",
       "      <th>7</th>\n",
       "      <td>0.5669</td>\n",
       "      <td>0.8014</td>\n",
       "      <td>1.2135</td>\n",
       "      <td>1.1074</td>\n",
       "      <td>0.8595</td>\n",
       "      <td>0.6957</td>\n",
       "      <td>0.6865</td>\n",
       "      <td>1.0723</td>\n",
       "      <td>0.8863</td>\n",
       "      <td>0.6914</td>\n",
       "      <td>...</td>\n",
       "      <td>1.29</td>\n",
       "      <td>1.76</td>\n",
       "      <td>1.45</td>\n",
       "      <td>1.60</td>\n",
       "      <td>1.40</td>\n",
       "      <td>1.55</td>\n",
       "      <td>1.47</td>\n",
       "      <td>1.58</td>\n",
       "      <td>1.95</td>\n",
       "      <td>3.81</td>\n",
       "    </tr>\n",
       "    <tr>\n",
       "      <th>8</th>\n",
       "      <td>0.4681</td>\n",
       "      <td>0.6377</td>\n",
       "      <td>1.1074</td>\n",
       "      <td>1.1074</td>\n",
       "      <td>0.9005</td>\n",
       "      <td>0.6991</td>\n",
       "      <td>0.5371</td>\n",
       "      <td>0.9397</td>\n",
       "      <td>0.8445</td>\n",
       "      <td>0.6915</td>\n",
       "      <td>...</td>\n",
       "      <td>1.24</td>\n",
       "      <td>1.67</td>\n",
       "      <td>1.38</td>\n",
       "      <td>1.32</td>\n",
       "      <td>1.22</td>\n",
       "      <td>1.47</td>\n",
       "      <td>2.49</td>\n",
       "      <td>1.58</td>\n",
       "      <td>1.88</td>\n",
       "      <td>3.25</td>\n",
       "    </tr>\n",
       "    <tr>\n",
       "      <th>9</th>\n",
       "      <td>0.5430</td>\n",
       "      <td>0.6431</td>\n",
       "      <td>1.0474</td>\n",
       "      <td>1.1077</td>\n",
       "      <td>0.9448</td>\n",
       "      <td>0.8033</td>\n",
       "      <td>0.6072</td>\n",
       "      <td>0.8807</td>\n",
       "      <td>0.8056</td>\n",
       "      <td>0.6912</td>\n",
       "      <td>...</td>\n",
       "      <td>1.21</td>\n",
       "      <td>1.63</td>\n",
       "      <td>1.64</td>\n",
       "      <td>1.54</td>\n",
       "      <td>1.28</td>\n",
       "      <td>1.38</td>\n",
       "      <td>2.92</td>\n",
       "      <td>1.68</td>\n",
       "      <td>1.86</td>\n",
       "      <td>3.06</td>\n",
       "    </tr>\n",
       "    <tr>\n",
       "      <th>10</th>\n",
       "      <td>0.4935</td>\n",
       "      <td>0.5674</td>\n",
       "      <td>1.0368</td>\n",
       "      <td>1.0551</td>\n",
       "      <td>0.8378</td>\n",
       "      <td>0.7105</td>\n",
       "      <td>0.5444</td>\n",
       "      <td>0.8586</td>\n",
       "      <td>0.8056</td>\n",
       "      <td>0.6590</td>\n",
       "      <td>...</td>\n",
       "      <td>1.25</td>\n",
       "      <td>1.34</td>\n",
       "      <td>1.53</td>\n",
       "      <td>1.39</td>\n",
       "      <td>1.21</td>\n",
       "      <td>1.37</td>\n",
       "      <td>2.46</td>\n",
       "      <td>2.99</td>\n",
       "      <td>1.79</td>\n",
       "      <td>2.84</td>\n",
       "    </tr>\n",
       "    <tr>\n",
       "      <th>11</th>\n",
       "      <td>0.4935</td>\n",
       "      <td>0.5376</td>\n",
       "      <td>1.1217</td>\n",
       "      <td>1.1613</td>\n",
       "      <td>0.9558</td>\n",
       "      <td>0.7803</td>\n",
       "      <td>0.5342</td>\n",
       "      <td>0.9046</td>\n",
       "      <td>0.9271</td>\n",
       "      <td>0.7238</td>\n",
       "      <td>...</td>\n",
       "      <td>1.48</td>\n",
       "      <td>1.37</td>\n",
       "      <td>1.73</td>\n",
       "      <td>1.39</td>\n",
       "      <td>1.19</td>\n",
       "      <td>1.58</td>\n",
       "      <td>2.38</td>\n",
       "      <td>2.92</td>\n",
       "      <td>1.62</td>\n",
       "      <td>2.73</td>\n",
       "    </tr>\n",
       "  </tbody>\n",
       "</table>\n",
       "<p>12 rows × 24 columns</p>\n",
       "</div>"
      ],
      "text/plain": [
       "      2018    2017    2016    2015    2014    2013    2012    2011    2010  \\\n",
       "0   0.5833  1.0846  1.0549  0.9293  0.8397  0.5866  0.8853  0.8606  0.6582   \n",
       "1   0.4649  0.8638  1.0014  0.8185  0.7826  0.4815  0.7415  0.8424  0.5925   \n",
       "2   0.5315  1.0504  1.1605  1.0361  0.7599  0.5377  0.8083  0.9188  0.7569   \n",
       "3   0.5175  0.7852  1.0544  0.9482  0.8154  0.6008  0.6999  0.8388  0.6639   \n",
       "4   0.5175  0.9255  1.1074  0.9838  0.8582  0.5848  0.7324  0.9852  0.7500   \n",
       "5   0.5175  0.8081  1.1605  1.0658  0.8174  0.5919  0.6385  0.9526  0.7908   \n",
       "6   0.5422  0.7971  1.1074  1.1773  0.9404  0.7087  0.6754  0.9665  0.8592   \n",
       "7   0.5669  0.8014  1.2135  1.1074  0.8595  0.6957  0.6865  1.0723  0.8863   \n",
       "8   0.4681  0.6377  1.1074  1.1074  0.9005  0.6991  0.5371  0.9397  0.8445   \n",
       "9   0.5430  0.6431  1.0474  1.1077  0.9448  0.8033  0.6072  0.8807  0.8056   \n",
       "10  0.4935  0.5674  1.0368  1.0551  0.8378  0.7105  0.5444  0.8586  0.8056   \n",
       "11  0.4935  0.5376  1.1217  1.1613  0.9558  0.7803  0.5342  0.9046  0.9271   \n",
       "\n",
       "      2009  ...  2004  2003  2002  2001  2000  1999  1998  1997  1996  1995  \n",
       "0   1.0427  ...  1.26  1.97  1.53  1.26  1.44  2.17  2.67  1.74  2.56  3.47  \n",
       "1   0.8527  ...  1.08  1.83  1.25  1.01  1.44  2.35  2.11  1.65  2.31  3.23  \n",
       "2   0.9665  ...  1.37  1.77  1.37  1.25  1.44  3.28  2.18  1.63  2.20  4.41  \n",
       "3   0.8356  ...  1.17  1.87  1.48  1.18  1.28  2.28  1.69  1.65  2.03  4.22  \n",
       "4   0.7664  ...  1.22  1.96  1.40  1.33  1.49  1.96  1.63  1.58  2.00  4.27  \n",
       "5   0.7514  ...  1.22  1.85  1.31  1.27  1.39  1.64  1.60  1.59  1.94  4.05  \n",
       "6   0.7840  ...  1.28  2.08  1.54  1.50  1.30  1.62  1.69  1.54  1.91  4.01  \n",
       "7   0.6914  ...  1.29  1.76  1.45  1.60  1.40  1.55  1.47  1.58  1.95  3.81  \n",
       "8   0.6915  ...  1.24  1.67  1.38  1.32  1.22  1.47  2.49  1.58  1.88  3.25  \n",
       "9   0.6912  ...  1.21  1.63  1.64  1.54  1.28  1.38  2.92  1.68  1.86  3.06  \n",
       "10  0.6590  ...  1.25  1.34  1.53  1.39  1.21  1.37  2.46  2.99  1.79  2.84  \n",
       "11  0.7238  ...  1.48  1.37  1.73  1.39  1.19  1.58  2.38  2.92  1.62  2.73  \n",
       "\n",
       "[12 rows x 24 columns]"
      ]
     },
     "execution_count": 20,
     "metadata": {},
     "output_type": "execute_result"
    }
   ],
   "source": [
    "cdi.head(12)"
   ]
  },
  {
   "cell_type": "code",
   "execution_count": 21,
   "metadata": {},
   "outputs": [
    {
     "data": {
      "text/plain": [
       "(24, 12)"
      ]
     },
     "execution_count": 21,
     "metadata": {},
     "output_type": "execute_result"
    }
   ],
   "source": [
    "cdi.T.values.shape"
   ]
  },
  {
   "cell_type": "code",
   "execution_count": 22,
   "metadata": {},
   "outputs": [
    {
     "data": {
      "text/html": [
       "<div>\n",
       "<style scoped>\n",
       "    .dataframe tbody tr th:only-of-type {\n",
       "        vertical-align: middle;\n",
       "    }\n",
       "\n",
       "    .dataframe tbody tr th {\n",
       "        vertical-align: top;\n",
       "    }\n",
       "\n",
       "    .dataframe thead th {\n",
       "        text-align: right;\n",
       "    }\n",
       "</style>\n",
       "<table border=\"1\" class=\"dataframe\">\n",
       "  <thead>\n",
       "    <tr style=\"text-align: right;\">\n",
       "      <th></th>\n",
       "      <th>0</th>\n",
       "      <th>1</th>\n",
       "      <th>2</th>\n",
       "      <th>3</th>\n",
       "      <th>4</th>\n",
       "      <th>5</th>\n",
       "      <th>6</th>\n",
       "      <th>7</th>\n",
       "      <th>8</th>\n",
       "      <th>9</th>\n",
       "      <th>10</th>\n",
       "      <th>11</th>\n",
       "    </tr>\n",
       "  </thead>\n",
       "  <tbody>\n",
       "    <tr>\n",
       "      <th>1995</th>\n",
       "      <td>3.47</td>\n",
       "      <td>3.23</td>\n",
       "      <td>4.41</td>\n",
       "      <td>4.22</td>\n",
       "      <td>4.27</td>\n",
       "      <td>4.05</td>\n",
       "      <td>4.01</td>\n",
       "      <td>3.81</td>\n",
       "      <td>3.25</td>\n",
       "      <td>3.06</td>\n",
       "      <td>2.84</td>\n",
       "      <td>2.73</td>\n",
       "    </tr>\n",
       "    <tr>\n",
       "      <th>1996</th>\n",
       "      <td>2.56</td>\n",
       "      <td>2.31</td>\n",
       "      <td>2.20</td>\n",
       "      <td>2.03</td>\n",
       "      <td>2.00</td>\n",
       "      <td>1.94</td>\n",
       "      <td>1.91</td>\n",
       "      <td>1.95</td>\n",
       "      <td>1.88</td>\n",
       "      <td>1.86</td>\n",
       "      <td>1.79</td>\n",
       "      <td>1.62</td>\n",
       "    </tr>\n",
       "    <tr>\n",
       "      <th>1997</th>\n",
       "      <td>1.74</td>\n",
       "      <td>1.65</td>\n",
       "      <td>1.63</td>\n",
       "      <td>1.65</td>\n",
       "      <td>1.58</td>\n",
       "      <td>1.59</td>\n",
       "      <td>1.54</td>\n",
       "      <td>1.58</td>\n",
       "      <td>1.58</td>\n",
       "      <td>1.68</td>\n",
       "      <td>2.99</td>\n",
       "      <td>2.92</td>\n",
       "    </tr>\n",
       "    <tr>\n",
       "      <th>1998</th>\n",
       "      <td>2.67</td>\n",
       "      <td>2.11</td>\n",
       "      <td>2.18</td>\n",
       "      <td>1.69</td>\n",
       "      <td>1.63</td>\n",
       "      <td>1.60</td>\n",
       "      <td>1.69</td>\n",
       "      <td>1.47</td>\n",
       "      <td>2.49</td>\n",
       "      <td>2.92</td>\n",
       "      <td>2.46</td>\n",
       "      <td>2.38</td>\n",
       "    </tr>\n",
       "    <tr>\n",
       "      <th>1999</th>\n",
       "      <td>2.17</td>\n",
       "      <td>2.35</td>\n",
       "      <td>3.28</td>\n",
       "      <td>2.28</td>\n",
       "      <td>1.96</td>\n",
       "      <td>1.64</td>\n",
       "      <td>1.62</td>\n",
       "      <td>1.55</td>\n",
       "      <td>1.47</td>\n",
       "      <td>1.38</td>\n",
       "      <td>1.37</td>\n",
       "      <td>1.58</td>\n",
       "    </tr>\n",
       "  </tbody>\n",
       "</table>\n",
       "</div>"
      ],
      "text/plain": [
       "        0     1     2     3     4     5     6     7     8     9     10    11\n",
       "1995  3.47  3.23  4.41  4.22  4.27  4.05  4.01  3.81  3.25  3.06  2.84  2.73\n",
       "1996  2.56  2.31  2.20  2.03  2.00  1.94  1.91  1.95  1.88  1.86  1.79  1.62\n",
       "1997  1.74  1.65  1.63  1.65  1.58  1.59  1.54  1.58  1.58  1.68  2.99  2.92\n",
       "1998  2.67  2.11  2.18  1.69  1.63  1.60  1.69  1.47  2.49  2.92  2.46  2.38\n",
       "1999  2.17  2.35  3.28  2.28  1.96  1.64  1.62  1.55  1.47  1.38  1.37  1.58"
      ]
     },
     "execution_count": 22,
     "metadata": {},
     "output_type": "execute_result"
    }
   ],
   "source": [
    "cdi.T[::-1].head()"
   ]
  },
  {
   "cell_type": "code",
   "execution_count": 23,
   "metadata": {},
   "outputs": [],
   "source": [
    "cdi = pd.Series(cdi.T[::-1].values.ravel(), index=range_months)"
   ]
  },
  {
   "cell_type": "code",
   "execution_count": 24,
   "metadata": {
    "scrolled": true
   },
   "outputs": [
    {
     "data": {
      "text/plain": [
       "<matplotlib.axes._subplots.AxesSubplot at 0x1994417d470>"
      ]
     },
     "execution_count": 24,
     "metadata": {},
     "output_type": "execute_result"
    },
    {
     "data": {
      "image/png": "[encoded data removed]",
      "text/plain": [
       "<Figure size 1008x216 with 1 Axes>"
      ]
     },
     "metadata": {
      "needs_background": "light"
     },
     "output_type": "display_data"
    }
   ],
   "source": [
    "plt.figure(figsize=(14,3))\n",
    "cdi.plot()"
   ]
  },
  {
   "cell_type": "code",
   "execution_count": 25,
   "metadata": {},
   "outputs": [
    {
     "data": {
      "text/plain": [
       "'D:\\\\Users\\\\andre.ferreira\\\\Documents\\\\sandbox'"
      ]
     },
     "execution_count": 25,
     "metadata": {},
     "output_type": "execute_result"
    }
   ],
   "source": [
    "pwd"
   ]
  },
  {
   "cell_type": "code",
   "execution_count": 26,
   "metadata": {},
   "outputs": [
    {
     "data": {
      "text/plain": [
       "<matplotlib.legend.Legend at 0x19944267080>"
      ]
     },
     "execution_count": 26,
     "metadata": {},
     "output_type": "execute_result"
    },
    {
     "data": {
      "image/png": "[encoded data removed]",
      "text/plain": [
       "<Figure size 1008x216 with 1 Axes>"
      ]
     },
     "metadata": {
      "needs_background": "light"
     },
     "output_type": "display_data"
    }
   ],
   "source": [
    "fig = plt.figure(figsize=(14,3))\n",
    "ax = fig.add_subplot(111)\n",
    "ax.plot(cdi, 'b--', lw=1.3, label='cdi')\n",
    "ax.plot(igpm, 'r--', lw=1.1, label='igpm')\n",
    "txfixa=cdi-igpm\n",
    "ax.plot(txfixa, 'k', lw=1.4, label='real')\n",
    "ax.fill_between(txfixa.index, txfixa.values, where=txfixa.values>0, color='blue', alpha=0.3)\n",
    "ax.fill_between(txfixa.index, txfixa.values, where=txfixa.values<0, color='red', alpha=0.3)\n",
    "ax.set_ylabel('juros reais mensais %')\n",
    "plt.legend()"
   ]
  },
  {
   "cell_type": "markdown",
   "metadata": {},
   "source": [
    "### Juros real médio histórico 10 anos renda fixa CDI"
   ]
  },
  {
   "cell_type": "code",
   "execution_count": 27,
   "metadata": {},
   "outputs": [
    {
     "data": {
      "text/plain": [
       "array([ 2.55,  1.84,  3.29,  2.12,  3.69,  1.59,  2.19,  1.61,  3.96,\n",
       "        2.54,  1.64,  2.02,  0.83,  1.34,  1.8 ,  1.71,  0.45,  0.92,\n",
       "        0.56,  1.67,  1.78,  1.67,  1.59,  0.89, -0.03,  1.22,  0.48,\n",
       "        0.97,  1.37,  0.85,  1.45,  1.49,  1.1 ,  1.31,  2.35,  2.08,\n",
       "        1.71,  1.93,  1.99,  1.56,  1.49,  1.22,  1.86,  1.63,  2.57,\n",
       "        2.84,  2.78,  1.93,  1.33, -1.26,  0.45,  1.57,  2.25,  1.28,\n",
       "        0.07, -0.01,  0.02, -0.32, -1.02, -0.23,  0.2 ,  1.09,  1.29,\n",
       "        1.05,  1.18,  0.54, -0.27, -0.99,  0.06,  0.9 ,  0.92,  0.56,\n",
       "        0.64,  0.78,  0.69,  0.18,  0.47,  0.29,  0.02,  0.22,  1.01,\n",
       "        0.36,  0.29,  1.17,  1.17,  1.19,  1.28,  0.92,  0.57, -0.23,\n",
       "       -0.41, -0.87, -1.02, -2.23, -3.66, -2.02, -0.36, -0.45,  0.24,\n",
       "        0.95])"
      ]
     },
     "execution_count": 27,
     "metadata": {},
     "output_type": "execute_result"
    }
   ],
   "source": [
    "txfixa.values[:100]"
   ]
  },
  {
   "cell_type": "markdown",
   "metadata": {},
   "source": [
    "Taxa de juros media mensal 2009 a 2018.  \n",
    "1. Sendo mais pessimista \n",
    "2. Considerando a economia pós crise de 2008. \n",
    "3. Considerando o pais mais adaptado ao plano real.  "
   ]
  },
  {
   "cell_type": "code",
   "execution_count": 28,
   "metadata": {},
   "outputs": [
    {
     "data": {
      "text/plain": [
       "array([2009, 2010, 2011, 2012, 2013, 2014, 2015, 2016, 2017, 2018],\n",
       "      dtype=int64)"
      ]
     },
     "execution_count": 28,
     "metadata": {},
     "output_type": "execute_result"
    }
   ],
   "source": [
    "anos[-10:]"
   ]
  },
  {
   "cell_type": "code",
   "execution_count": 29,
   "metadata": {},
   "outputs": [
    {
     "data": {
      "text/plain": [
       "0.0035170206098658063"
      ]
     },
     "execution_count": 29,
     "metadata": {},
     "output_type": "execute_result"
    }
   ],
   "source": [
    "txcdireal = (np.prod(txfixa[-10*12:]*0.01+1.))**(1/(len(anos[-10:])*12))-1\n",
    "txcdireal"
   ]
  },
  {
   "cell_type": "markdown",
   "metadata": {},
   "source": [
    "### Anual"
   ]
  },
  {
   "cell_type": "code",
   "execution_count": 30,
   "metadata": {},
   "outputs": [
    {
     "data": {
      "text/plain": [
       "0.0430302769067239"
      ]
     },
     "execution_count": 30,
     "metadata": {},
     "output_type": "execute_result"
    }
   ],
   "source": [
    "(txcdireal+1)**12-1"
   ]
  },
  {
   "cell_type": "markdown",
   "metadata": {},
   "source": [
    "### TR usada p/ corrigir financiamento\n",
    "\n",
    "taxa de referência do banco central  \n",
    "\n",
    "- corrige financiamentos, poupança entre outras coisas "
   ]
  },
  {
   "cell_type": "code",
   "execution_count": 31,
   "metadata": {},
   "outputs": [],
   "source": [
    "tr = pd.read_csv('TR-Historico-Anual.txt', header=None, names=['ano', 'tr'], delimiter='\\t')"
   ]
  },
  {
   "cell_type": "code",
   "execution_count": 32,
   "metadata": {},
   "outputs": [],
   "source": [
    "tr.set_index(tr.ano, inplace=True)\n",
    "tr.drop(columns='ano', inplace=True)"
   ]
  },
  {
   "cell_type": "markdown",
   "metadata": {},
   "source": [
    "Últimos 10 anos"
   ]
  },
  {
   "cell_type": "code",
   "execution_count": 33,
   "metadata": {},
   "outputs": [
    {
     "data": {
      "text/plain": [
       "tr    0.082644\n",
       "dtype: float64"
      ]
     },
     "execution_count": 33,
     "metadata": {},
     "output_type": "execute_result"
    }
   ],
   "source": [
    "np.prod(1+tr[:-10])-1"
   ]
  },
  {
   "cell_type": "markdown",
   "metadata": {},
   "source": [
    "Média Anual"
   ]
  },
  {
   "cell_type": "code",
   "execution_count": 34,
   "metadata": {},
   "outputs": [
    {
     "data": {
      "text/plain": [
       "tr    0.007972\n",
       "dtype: float64"
      ]
     },
     "execution_count": 34,
     "metadata": {},
     "output_type": "execute_result"
    }
   ],
   "source": [
    "np.prod(1+tr[:-10])**(1/10)-1"
   ]
  },
  {
   "cell_type": "markdown",
   "metadata": {},
   "source": [
    "Média Mensal últimos 10 anos"
   ]
  },
  {
   "cell_type": "code",
   "execution_count": 35,
   "metadata": {},
   "outputs": [
    {
     "data": {
      "text/plain": [
       "tr    0.000662\n",
       "dtype: float64"
      ]
     },
     "execution_count": 35,
     "metadata": {},
     "output_type": "execute_result"
    }
   ],
   "source": [
    "txtr = np.prod(1+tr[:-10])**(1/(10*12))-1\n",
    "txtr"
   ]
  },
  {
   "cell_type": "markdown",
   "metadata": {},
   "source": [
    "### Pressuposições \n",
    "\n",
    "- Belo Horizonte - Bairro Sion\n",
    "- IGPM aluguel 7% ano feb/2019\n",
    "- Valorização do Imóvel == Depreciação devido ao desgaste natural com o tempo? Razoável?\n",
    "- Condomínio será sempre pago.\n",
    "- SELIC hoje 6.5% ano mas vamos calcular juros real médio histórico de uma renda fixa CDI"
   ]
  },
  {
   "cell_type": "markdown",
   "metadata": {},
   "source": [
    "- Meu salário em reais R$ será corrigido da inflação? 3 cenários:\n",
    "    1. Correção total\n",
    "    2. Não haverá correção\n",
    "    3. O mais provavel correção parcial.\n",
    "\n",
    "Acho que não é relevante para análise.\n",
    "    \n",
    "- O valor do imóvel sofrerá:\n",
    "    1. Desvalorização devido à deterioração natural com o tempo\n",
    "    2. Valorização devido à demanda de novos compradores\n",
    "    3. Desvalorização devido à inflação sobre o real R$\n",
    "    \n",
    "Extrapolando o que tem acontecido hoje em dia 2019, 1 e 2 tem se cancelado.  \n",
    "Assim o único efeito sobre o valor do imóvel é desvalorização pela inflação. \n",
    "Mas imóvel históricamente sempre foi um bom investimento a não ser que ...  \n",
    "uma nova crise global aconteça agora.\n",
    "\n",
    "\n",
    "### Fluxo de Caixa : desconto valor presente\n",
    "\n",
    "#### Compra:\n",
    "\n",
    "- (-) dinheiro entrada\n",
    "- (-) condomínio (descontado -)\n",
    "- (-) mensal do financiamento (descontado -)\n",
    "- (+) valor do imóvel (- desvalorizado pela inflação no final do período)\n",
    "\n",
    "\n",
    "- Não adicionado\n",
    "  - TR zero atualmente, mas normalmente > 0 adicionada à taxa de juros\n",
    "   \n",
    "#### Aluguel:  \n",
    "\n",
    "- (-) condomínio(descontado -)\n",
    "- (-) aluguel corrigido IGPM (descontado -)\n",
    "- (+) dinheiro entrada "
   ]
  },
  {
   "cell_type": "code",
   "execution_count": 36,
   "metadata": {},
   "outputs": [],
   "source": [
    "aluguel = 1600\n",
    "condominio = 800 # condominio + iptu etc \n",
    "valor_imovel = 600e3\n",
    "x_anos = 20\n",
    "igpm = (0.07+1)**(1./12)-1 # aumento mensal do aluguel por contrato hoje\n",
    "# mas qual o histórico médio do Brasil? parece razoável esse valor na média\n",
    "selic = (0.065+1)**(1./12)-1 # mensal\n",
    "meses  = x_anos*12\n",
    "entrada = 200e3\n",
    "txjuros = (0.0967+1)**(1./12)-1 # CET convertida p/ mensal taxa de juros bradesco incluso seguros\n",
    "# caixa economica financiamento algum problema estava dando 18.75%\n",
    "# (0.1865+1)**(1./12)-1 = 0.01435 ao mês p/ 430k financiemento\n",
    "#ipca = "
   ]
  },
  {
   "cell_type": "code",
   "execution_count": 37,
   "metadata": {},
   "outputs": [
    {
     "data": {
      "text/plain": [
       "(0.007721799737121726, 0.00526169427684775)"
      ]
     },
     "execution_count": 37,
     "metadata": {},
     "output_type": "execute_result"
    }
   ],
   "source": [
    "txjuros, selic"
   ]
  },
  {
   "cell_type": "markdown",
   "metadata": {},
   "source": [
    "#### Taxa juros efetiva inclui a TR"
   ]
  },
  {
   "cell_type": "code",
   "execution_count": 38,
   "metadata": {},
   "outputs": [
    {
     "data": {
      "text/plain": [
       "0.008383740206457713"
      ]
     },
     "execution_count": 38,
     "metadata": {},
     "output_type": "execute_result"
    }
   ],
   "source": [
    "txjuros = float(txtr) + txjuros\n",
    "txjuros"
   ]
  },
  {
   "cell_type": "markdown",
   "metadata": {},
   "source": [
    "#### Valor presente ou net present value (NPV)\n",
    "\n",
    "$$ Vp = \\sum_i^N{\\frac{R_t}{(1+i)^t}} $$\n",
    "\n",
    "Somatória dos iésimo fluxo de caixa descontado.  \n",
    "A taxa $i$ de desconto é a inflação? ipca? igpm?  Não!  \n",
    "- É a taxa real de juros de investimento risk-free! renda fixa cdi (por exemplo) - menos inflação\n",
    "\n",
    "Vamos calcular então aproximadamente quanto é $i$ historicamente."
   ]
  },
  {
   "cell_type": "markdown",
   "metadata": {},
   "source": [
    "### Fluxo de caixa mensal - Comprar"
   ]
  },
  {
   "cell_type": "markdown",
   "metadata": {},
   "source": [
    "**SAC significa Sistema de Amortização Constante**\n",
    "\n",
    "Para calcular o valor da amortização basta dividir o valor financiado pelo número de meses. Suponha um financiamento de 110.500,00 em 360 meses à 0,72% ao mês:\n",
    "\n",
    "amortização = 110500/360 = 306,94  \n",
    "1a parcela = 306,94 + 0,72%x110500 = 1.102,54  \n",
    "2a parcela = 306,94 + 0,72%x(110500-1x306,94) = 1.100,33  \n",
    "3a parcela = 306,94 + 0,72%x(110500-2x306,94) = 1.098,12  "
   ]
  },
  {
   "cell_type": "code",
   "execution_count": 39,
   "metadata": {},
   "outputs": [],
   "source": [
    "def sac(valor, meses, txjuros):\n",
    "    \"\"\"\n",
    "    retorna parcelas do financiamento\n",
    "    baseado no SAC    \n",
    "    \"\"\"\n",
    "    amort = valor/meses\n",
    "    return amort + txjuros*(valor-np.arange(meses)*amort)"
   ]
  },
  {
   "cell_type": "code",
   "execution_count": 40,
   "metadata": {
    "scrolled": true
   },
   "outputs": [],
   "source": [
    "def comprar(valor_imovel, entrada, meses, txjuros, condominio):\n",
    "    return -sac(valor_imovel-entrada, meses, txjuros) - condominio*np.power(1+txigpm, np.arange(meses))"
   ]
  },
  {
   "cell_type": "markdown",
   "metadata": {},
   "source": [
    "### Fluxo de caixa mensal - Alugar"
   ]
  },
  {
   "cell_type": "code",
   "execution_count": 41,
   "metadata": {
    "scrolled": true
   },
   "outputs": [],
   "source": [
    "def alugar(aluguel, meses, txigpm, condominio):\n",
    "    return -((condominio+aluguel)*np.power(1+txigpm, np.arange(meses))) # condomino + etc + aluguel corrigido igpm "
   ]
  },
  {
   "cell_type": "code",
   "execution_count": 42,
   "metadata": {},
   "outputs": [
    {
     "data": {
      "text/plain": [
       "(240, 0.008383740206457713)"
      ]
     },
     "execution_count": 42,
     "metadata": {},
     "output_type": "execute_result"
    }
   ],
   "source": [
    "meses, txjuros"
   ]
  },
  {
   "cell_type": "code",
   "execution_count": 46,
   "metadata": {},
   "outputs": [
    {
     "data": {
      "text/plain": [
       "<matplotlib.legend.Legend at 0x199445c4c88>"
      ]
     },
     "execution_count": 46,
     "metadata": {},
     "output_type": "execute_result"
    },
    {
     "data": {
      "image/png": "[encoded data removed]",
      "text/plain": [
       "<Figure size 720x216 with 1 Axes>"
      ]
     },
     "metadata": {
      "needs_background": "light"
     },
     "output_type": "display_data"
    }
   ],
   "source": [
    "plt.figure(figsize=(10,3))\n",
    "plt.plot(np.arange(meses), comprar(valor_imovel, entrada, meses, txjuros, condominio), 'r', label='comprar')\n",
    "plt.plot(np.arange(meses), alugar(aluguel, meses, txigpm, condominio), 'b', label='alugar')\n",
    "plt.ylabel('Fluxo de caixa (R$)')\n",
    "plt.xlabel('Meses')\n",
    "plt.legend()\n",
    "#print('valor da operação futuro compra: ', np.sum(comprar())+valor_imovel)\n",
    "#print('valor da operação futuro aluguel: ', np.sum(alugar())+entrada*(txcdireal+1)**meses)"
   ]
  },
  {
   "cell_type": "markdown",
   "metadata": {},
   "source": [
    "### Valor Presente Alugar"
   ]
  },
  {
   "cell_type": "code",
   "execution_count": 47,
   "metadata": {
    "scrolled": true
   },
   "outputs": [
    {
     "data": {
      "text/plain": [
       "-454043.92116357037"
      ]
     },
     "execution_count": 47,
     "metadata": {},
     "output_type": "execute_result"
    }
   ],
   "source": [
    "npv_alugar = (np.sum(alugar(aluguel, meses, txigpm, condominio)/\n",
    "       np.power(1+txcdireal, np.arange(meses)))+entrada)\n",
    "npv_alugar"
   ]
  },
  {
   "cell_type": "markdown",
   "metadata": {},
   "source": [
    "### Valor Presente Comprar (com valorização do imóvel igual inflação e desgaste)"
   ]
  },
  {
   "cell_type": "markdown",
   "metadata": {},
   "source": [
    "Apesar que de acordo com esses caras aqui o imóvel se valoriza real (descontando inflação IPCA) em média 1% ao ano nos últimos 36 anos.  \n",
    "http://rexperts.com.br/valorizacao-dos-imoveis-brasil-fipe-zap/"
   ]
  },
  {
   "cell_type": "markdown",
   "metadata": {},
   "source": [
    "- Estados unidos nos últimos 44 anos corrigindo de inflação de acordo com esse site aqui\n",
    "http://www.jparsons.net/housingbubble/  \n",
    "(pré-bolha imobiliária):\n",
    "(175/150) = 1.16666 e `(175/150)**(1/(2014-1970))-1 = 0.0035` ou 0.35% ao ano\n",
    "- Usando todos os dados concluiu que o valor do aluguel segue praticamente a mesma taxa de valorização dos imóveis\n",
    "\n",
    "- Este outro site aqui https://michaelbluejay.com/house/appreciation.html recomenda considerar que o preço dos imóveis praticamente respeita a inflação, se não as pessoas não comprariam mais nada no longo prazo. Faz sentido com o 0.35% ano acima.\n"
   ]
  },
  {
   "cell_type": "code",
   "execution_count": 49,
   "metadata": {
    "scrolled": true
   },
   "outputs": [
    {
     "data": {
      "text/plain": [
       "-200170.28935194574"
      ]
     },
     "execution_count": 49,
     "metadata": {},
     "output_type": "execute_result"
    }
   ],
   "source": [
    "npv_comprar = (np.sum(comprar(valor_imovel, entrada, meses, txjuros, condominio)/\n",
    "        np.power(1+txcdireal, np.arange(meses))))\n",
    "npv_comprar+valor_imovel"
   ]
  },
  {
   "cell_type": "markdown",
   "metadata": {},
   "source": [
    "### Valor Presente Comprar (com desvalorização igual a inflação - 1%)"
   ]
  },
  {
   "cell_type": "code",
   "execution_count": 54,
   "metadata": {},
   "outputs": [
    {
     "data": {
      "text/plain": [
       "1.1340326685697883"
      ]
     },
     "execution_count": 54,
     "metadata": {},
     "output_type": "execute_result"
    }
   ],
   "source": [
    "# considerando que a valorização dos EUA fosse aplicada aqui no Brasil \n",
    "# e traçando um paralelo com os dados históricos da FIPE\n",
    "# ao inves de 53% ao final de 36 anos teríamos 13.4%\n",
    "# ou seja uma diferença de 40%, eu acredito que caem esses preços pela inflação\n",
    "# estão muito fora da reta\n",
    "1.0035**36"
   ]
  },
  {
   "cell_type": "code",
   "execution_count": 50,
   "metadata": {},
   "outputs": [
    {
     "data": {
      "text/plain": [
       "0.0037332356191015492"
      ]
     },
     "execution_count": 50,
     "metadata": {},
     "output_type": "execute_result"
    }
   ],
   "source": [
    "desvalor = txigpm-((0.01+1)**(1/12)-1)\n",
    "desvalor"
   ]
  },
  {
   "cell_type": "markdown",
   "metadata": {},
   "source": [
    "No final do period o valor dele é"
   ]
  },
  {
   "cell_type": "code",
   "execution_count": 51,
   "metadata": {},
   "outputs": [
    {
     "data": {
      "text/plain": [
       "244514.95843507285"
      ]
     },
     "execution_count": 51,
     "metadata": {},
     "output_type": "execute_result"
    }
   ],
   "source": [
    "valor_imovel*(1-desvalor)**meses"
   ]
  },
  {
   "cell_type": "markdown",
   "metadata": {},
   "source": [
    "Trazendo esse dinheiro para o valor presente,   \n",
    "considerando o valor dele hoje no risk-fre"
   ]
  },
  {
   "cell_type": "code",
   "execution_count": 52,
   "metadata": {},
   "outputs": [
    {
     "data": {
      "text/plain": [
       "105285.15187006831"
      ]
     },
     "execution_count": 52,
     "metadata": {},
     "output_type": "execute_result"
    }
   ],
   "source": [
    "(valor_imovel*(1-desvalor)**meses)/(1+txcdireal)**meses"
   ]
  },
  {
   "cell_type": "markdown",
   "metadata": {},
   "source": [
    "o valor presente total é"
   ]
  },
  {
   "cell_type": "code",
   "execution_count": 53,
   "metadata": {},
   "outputs": [
    {
     "data": {
      "text/plain": [
       "-694885.1374818775"
      ]
     },
     "execution_count": 53,
     "metadata": {},
     "output_type": "execute_result"
    }
   ],
   "source": [
    "npv_comprar+(valor_imovel*(1-desvalor)**meses)/(1+txcdireal)**meses"
   ]
  },
  {
   "cell_type": "markdown",
   "metadata": {},
   "source": [
    "Rent vs Buy\n",
    "\n",
    "https://michaelbluejay.com/house/rentvsbuy.html"
   ]
  },
  {
   "cell_type": "markdown",
   "metadata": {},
   "source": [
    "Outros custos de compra do imóvel\n",
    "\n",
    "+ 3% a partr de 2014 em BH imposto de transmissão do imóvel - ITBI sobre o valor venal \n",
    "+ valor venal calculado por aqui https://www.credipronto.com.br/blog/como-calcular-o-valor-venal-de-um-imovel/\n",
    "+ e aqui planta generica de Belo Horizonte http://portal6.pbh.gov.br/dom/Files/anexos%20iptu.pdf\n",
    "\n",
    "+ interessante aqui http://www.vermelho.org.br/noticia/120003-1"
   ]
  }
 ],
 "metadata": {
  "kernelspec": {
   "display_name": "Python 3",
   "language": "python",
   "name": "python3"
  },
  "language_info": {
   "codemirror_mode": {
    "name": "ipython",
    "version": 3
   },
   "file_extension": ".py",
   "mimetype": "text/x-python",
   "name": "python",
   "nbconvert_exporter": "python",
   "pygments_lexer": "ipython3",
   "version": "3.7.3"
  }
 },
 "nbformat": 4,
 "nbformat_minor": 2
}
