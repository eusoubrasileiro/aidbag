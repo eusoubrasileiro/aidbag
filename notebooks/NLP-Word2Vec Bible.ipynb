{
 "cells": [
  {
   "cell_type": "code",
   "execution_count": 80,
   "source": [
    "from nltk.corpus import gutenberg\r\n",
    "from string import punctuation \r\n",
    "from gensim.models import word2vec\r\n",
    "import nltk "
   ],
   "outputs": [],
   "metadata": {}
  },
  {
   "cell_type": "code",
   "execution_count": 81,
   "source": [
    "import logging"
   ],
   "outputs": [],
   "metadata": {}
  },
  {
   "cell_type": "code",
   "execution_count": 82,
   "source": [
    "logging.basicConfig(format='%(asctime)s : %(levelname)s : %(message)s', level=logging.INFO)\r\n",
    " "
   ],
   "outputs": [],
   "metadata": {}
  },
  {
   "cell_type": "code",
   "execution_count": 83,
   "source": [
    "nltk.download('punkt')"
   ],
   "outputs": [
    {
     "output_type": "stream",
     "name": "stderr",
     "text": [
      "[nltk_data] Downloading package punkt to\n",
      "[nltk_data]     C:\\Users\\andre\\AppData\\Roaming\\nltk_data...\n",
      "[nltk_data]   Package punkt is already up-to-date!\n"
     ]
    },
    {
     "output_type": "execute_result",
     "data": {
      "text/plain": [
       "True"
      ]
     },
     "metadata": {},
     "execution_count": 83
    }
   ],
   "metadata": {}
  },
  {
   "cell_type": "code",
   "execution_count": 84,
   "source": [
    " nltk.download('gutenberg')"
   ],
   "outputs": [
    {
     "output_type": "stream",
     "name": "stderr",
     "text": [
      "[nltk_data] Downloading package gutenberg to\n",
      "[nltk_data]     C:\\Users\\andre\\AppData\\Roaming\\nltk_data...\n",
      "[nltk_data]   Package gutenberg is already up-to-date!\n"
     ]
    },
    {
     "output_type": "execute_result",
     "data": {
      "text/plain": [
       "True"
      ]
     },
     "metadata": {},
     "execution_count": 84
    }
   ],
   "metadata": {}
  },
  {
   "cell_type": "code",
   "execution_count": 85,
   "source": [
    "bible_kjv_words = gutenberg.words('bible-kjv.txt')"
   ],
   "outputs": [],
   "metadata": {}
  },
  {
   "cell_type": "code",
   "execution_count": 86,
   "source": [
    "bible_kjv_words"
   ],
   "outputs": [
    {
     "output_type": "execute_result",
     "data": {
      "text/plain": [
       "['[', 'The', 'King', 'James', 'Bible', ']', 'The', ...]"
      ]
     },
     "metadata": {},
     "execution_count": 86
    }
   ],
   "metadata": {}
  },
  {
   "cell_type": "code",
   "execution_count": 87,
   "source": [
    "bible_kjv_sents = gutenberg.sents('bible-kjv.txt')  # that's what is needed"
   ],
   "outputs": [],
   "metadata": {}
  },
  {
   "cell_type": "code",
   "execution_count": 88,
   "source": [
    "bible_kjv_sents[:4]"
   ],
   "outputs": [
    {
     "output_type": "execute_result",
     "data": {
      "text/plain": [
       "[['[', 'The', 'King', 'James', 'Bible', ']'],\n",
       " ['The', 'Old', 'Testament', 'of', 'the', 'King', 'James', 'Bible'],\n",
       " ['The', 'First', 'Book', 'of', 'Moses', ':', 'Called', 'Genesis'],\n",
       " ['1',\n",
       "  ':',\n",
       "  '1',\n",
       "  'In',\n",
       "  'the',\n",
       "  'beginning',\n",
       "  'God',\n",
       "  'created',\n",
       "  'the',\n",
       "  'heaven',\n",
       "  'and',\n",
       "  'the',\n",
       "  'earth',\n",
       "  '.']]"
      ]
     },
     "metadata": {},
     "execution_count": 88
    }
   ],
   "metadata": {}
  },
  {
   "cell_type": "markdown",
   "source": [
    "# Remove punctuations\r\n",
    "\r\n",
    "'!\"#$%&\\'()*+,-./:;<=>?@[\\\\]^_`{|}~'"
   ],
   "metadata": {}
  },
  {
   "cell_type": "code",
   "execution_count": 89,
   "source": [
    "discard_punctuation_and_lowercased_sents = [[word.lower() for word in sent if word not in punctuation] for sent in bible_kjv_sents]\r\n",
    " "
   ],
   "outputs": [],
   "metadata": {}
  },
  {
   "cell_type": "markdown",
   "source": [
    "## Remove 11, 12 chapter and verse from sentences"
   ],
   "metadata": {}
  },
  {
   "cell_type": "code",
   "execution_count": 90,
   "source": [
    "discard_punctuation_and_lowercased_sents_chaptverse = []\r\n",
    "for sent in discard_punctuation_and_lowercased_sents:\r\n",
    "    if sent[0].isnumeric() and sent[1].isnumeric():\r\n",
    "        sent = sent[2:]          \r\n",
    "    discard_punctuation_and_lowercased_sents_chaptverse.append(sent)"
   ],
   "outputs": [],
   "metadata": {}
  },
  {
   "cell_type": "code",
   "execution_count": 93,
   "source": [
    "for sentence in discard_punctuation_and_lowercased_sents_chaptverse[:10]:\r\n",
    "    print(' '.join(sentence))"
   ],
   "outputs": [
    {
     "output_type": "stream",
     "name": "stdout",
     "text": [
      "the king james bible\n",
      "the old testament of the king james bible\n",
      "the first book of moses called genesis\n",
      "in the beginning god created the heaven and the earth\n",
      "and the earth was without form and void and darkness was upon the face of the deep\n",
      "and the spirit of god moved upon the face of the waters\n",
      "and god said let there be light and there was light\n",
      "and god saw the light that it was good and god divided the light from the darkness\n",
      "and god called the light day and the darkness he called night\n",
      "and the evening and the morning were the first day\n"
     ]
    }
   ],
   "metadata": {}
  },
  {
   "cell_type": "markdown",
   "source": [
    "vector_size (int, optional) – Dimensionality of the word vectors.\r\n",
    "\r\n",
    "window (int, optional) – Maximum distance between the current and predicted word within a sentence.\r\n",
    "\r\n",
    "min_count (int, optional) – Ignores all words with total frequency lower than this.\r\n",
    "\r\n",
    "max_vocab_size (int, optional) – Limits the RAM during vocabulary building; if there are more unique words than this, then prune the infrequent ones. Every 10 million word types need about 1GB of RAM. Set to None for no limit.\r\n",
    "\r\n",
    "max_final_vocab (int, optional) – Limits the vocab to a target vocab size by automatically picking a matching min_count. If the specified min_count is more than the calculated min_count, the specified min_count will be used. Set to None if not required.\r\n",
    "\r\n",
    "epochs (int, optional) – Number of iterations (epochs) over the corpus. (Formerly: iter)\r\n",
    "\r\n",
    "compute_loss (bool, optional) – If True, computes and stores loss value which can be retrieved using get_latest_training_loss().\r\n",
    "\r\n",
    "shrink_windows (bool, optional) – New in 4.1. Experimental. If True, the effective window size is uniformly sampled from [1, window] for each target word during training, to match the original word2vec algorithm’s approximate weighting of context words by distance. Otherwise, the effective window size is always fixed to window words to either side.\r\n",
    "\r\n",
    "sample (float, optional) – The threshold for configuring which higher-frequency words are randomly downsampled, useful range is (0, 1e-5). "
   ],
   "metadata": {}
  },
  {
   "cell_type": "code",
   "execution_count": 191,
   "source": [
    "bible_kjv_word2vec_model = word2vec.Word2Vec(discard_punctuation_and_lowercased_sents_chaptverse, min_count=20, \r\n",
    "        vector_size=500, window=12, sample=0, workers=8, sorted_vocab=1)"
   ],
   "outputs": [
    {
     "output_type": "stream",
     "name": "stderr",
     "text": [
      "2021-08-30 13:34:45,656 : INFO : collecting all words and their counts\n",
      "2021-08-30 13:34:45,658 : INFO : PROGRESS: at sentence #0, processed 0 words, keeping 0 word types\n",
      "2021-08-30 13:34:45,728 : INFO : PROGRESS: at sentence #10000, processed 298187 words, keeping 7109 word types\n",
      "2021-08-30 13:34:45,799 : INFO : PROGRESS: at sentence #20000, processed 537793 words, keeping 10238 word types\n",
      "2021-08-30 13:34:45,880 : INFO : PROGRESS: at sentence #30000, processed 799185 words, keeping 12650 word types\n",
      "2021-08-30 13:34:45,882 : INFO : collected 12664 word types from a corpus of 802102 raw words and 30103 sentences\n",
      "2021-08-30 13:34:45,883 : INFO : Creating a fresh vocabulary\n",
      "2021-08-30 13:34:45,904 : INFO : Word2Vec lifecycle event {'msg': 'effective_min_count=20 retains 2376 unique words (18.76184459886292%% of original 12664, drops 10288)', 'datetime': '2021-08-30T13:34:45.903337', 'gensim': '4.0.1', 'python': '3.8.10 (default, May 19 2021, 13:12:57) [MSC v.1916 64 bit (AMD64)]', 'platform': 'Windows-10-10.0.19043-SP0', 'event': 'prepare_vocab'}\n",
      "2021-08-30 13:34:45,904 : INFO : Word2Vec lifecycle event {'msg': 'effective_min_count=20 leaves 760760 word corpus (94.845792679734%% of original 802102, drops 41342)', 'datetime': '2021-08-30T13:34:45.904336', 'gensim': '4.0.1', 'python': '3.8.10 (default, May 19 2021, 13:12:57) [MSC v.1916 64 bit (AMD64)]', 'platform': 'Windows-10-10.0.19043-SP0', 'event': 'prepare_vocab'}\n",
      "2021-08-30 13:34:45,928 : INFO : deleting the raw counts dictionary of 12664 items\n",
      "2021-08-30 13:34:45,929 : INFO : sample=0 downsamples 0 most-common words\n",
      "2021-08-30 13:34:45,930 : INFO : Word2Vec lifecycle event {'msg': 'downsampling leaves estimated 760760 word corpus (100.0%% of prior 760760)', 'datetime': '2021-08-30T13:34:45.930337', 'gensim': '4.0.1', 'python': '3.8.10 (default, May 19 2021, 13:12:57) [MSC v.1916 64 bit (AMD64)]', 'platform': 'Windows-10-10.0.19043-SP0', 'event': 'prepare_vocab'}\n",
      "2021-08-30 13:34:45,961 : INFO : estimated required memory for 2376 words and 500 dimensions: 10692000 bytes\n",
      "2021-08-30 13:34:45,963 : INFO : resetting layer weights\n",
      "2021-08-30 13:34:45,972 : INFO : Word2Vec lifecycle event {'update': False, 'trim_rule': 'None', 'datetime': '2021-08-30T13:34:45.972337', 'gensim': '4.0.1', 'python': '3.8.10 (default, May 19 2021, 13:12:57) [MSC v.1916 64 bit (AMD64)]', 'platform': 'Windows-10-10.0.19043-SP0', 'event': 'build_vocab'}\n",
      "2021-08-30 13:34:45,974 : INFO : Word2Vec lifecycle event {'msg': 'training model with 8 workers on 2376 vocabulary and 500 features, using sg=0 hs=0 sample=0 negative=5 window=12', 'datetime': '2021-08-30T13:34:45.974338', 'gensim': '4.0.1', 'python': '3.8.10 (default, May 19 2021, 13:12:57) [MSC v.1916 64 bit (AMD64)]', 'platform': 'Windows-10-10.0.19043-SP0', 'event': 'train'}\n",
      "2021-08-30 13:34:46,856 : INFO : worker thread finished; awaiting finish of 7 more threads\n",
      "2021-08-30 13:34:46,862 : INFO : worker thread finished; awaiting finish of 6 more threads\n",
      "2021-08-30 13:34:46,871 : INFO : worker thread finished; awaiting finish of 5 more threads\n",
      "2021-08-30 13:34:46,875 : INFO : worker thread finished; awaiting finish of 4 more threads\n",
      "2021-08-30 13:34:46,880 : INFO : worker thread finished; awaiting finish of 3 more threads\n",
      "2021-08-30 13:34:46,904 : INFO : worker thread finished; awaiting finish of 2 more threads\n",
      "2021-08-30 13:34:46,908 : INFO : worker thread finished; awaiting finish of 1 more threads\n",
      "2021-08-30 13:34:46,913 : INFO : worker thread finished; awaiting finish of 0 more threads\n",
      "2021-08-30 13:34:46,914 : INFO : EPOCH - 1 : training on 802102 raw words (760760 effective words) took 0.9s, 824072 effective words/s\n",
      "2021-08-30 13:34:47,860 : INFO : worker thread finished; awaiting finish of 7 more threads\n",
      "2021-08-30 13:34:47,873 : INFO : worker thread finished; awaiting finish of 6 more threads\n",
      "2021-08-30 13:34:47,880 : INFO : worker thread finished; awaiting finish of 5 more threads\n",
      "2021-08-30 13:34:47,883 : INFO : worker thread finished; awaiting finish of 4 more threads\n",
      "2021-08-30 13:34:47,891 : INFO : worker thread finished; awaiting finish of 3 more threads\n",
      "2021-08-30 13:34:47,897 : INFO : worker thread finished; awaiting finish of 2 more threads\n",
      "2021-08-30 13:34:47,904 : INFO : worker thread finished; awaiting finish of 1 more threads\n",
      "2021-08-30 13:34:47,906 : INFO : worker thread finished; awaiting finish of 0 more threads\n",
      "2021-08-30 13:34:47,907 : INFO : EPOCH - 2 : training on 802102 raw words (760760 effective words) took 1.0s, 784701 effective words/s\n",
      "2021-08-30 13:34:48,825 : INFO : worker thread finished; awaiting finish of 7 more threads\n",
      "2021-08-30 13:34:48,830 : INFO : worker thread finished; awaiting finish of 6 more threads\n",
      "2021-08-30 13:34:48,835 : INFO : worker thread finished; awaiting finish of 5 more threads\n",
      "2021-08-30 13:34:48,842 : INFO : worker thread finished; awaiting finish of 4 more threads\n",
      "2021-08-30 13:34:48,850 : INFO : worker thread finished; awaiting finish of 3 more threads\n",
      "2021-08-30 13:34:48,855 : INFO : worker thread finished; awaiting finish of 2 more threads\n",
      "2021-08-30 13:34:48,856 : INFO : worker thread finished; awaiting finish of 1 more threads\n",
      "2021-08-30 13:34:48,860 : INFO : worker thread finished; awaiting finish of 0 more threads\n",
      "2021-08-30 13:34:48,861 : INFO : EPOCH - 3 : training on 802102 raw words (760760 effective words) took 0.9s, 806732 effective words/s\n",
      "2021-08-30 13:34:49,709 : INFO : worker thread finished; awaiting finish of 7 more threads\n",
      "2021-08-30 13:34:49,718 : INFO : worker thread finished; awaiting finish of 6 more threads\n",
      "2021-08-30 13:34:49,724 : INFO : worker thread finished; awaiting finish of 5 more threads\n",
      "2021-08-30 13:34:49,732 : INFO : worker thread finished; awaiting finish of 4 more threads\n",
      "2021-08-30 13:34:49,736 : INFO : worker thread finished; awaiting finish of 3 more threads\n",
      "2021-08-30 13:34:49,743 : INFO : worker thread finished; awaiting finish of 2 more threads\n",
      "2021-08-30 13:34:49,745 : INFO : worker thread finished; awaiting finish of 1 more threads\n",
      "2021-08-30 13:34:49,753 : INFO : worker thread finished; awaiting finish of 0 more threads\n",
      "2021-08-30 13:34:49,756 : INFO : EPOCH - 4 : training on 802102 raw words (760760 effective words) took 0.9s, 859573 effective words/s\n",
      "2021-08-30 13:34:50,572 : INFO : worker thread finished; awaiting finish of 7 more threads\n",
      "2021-08-30 13:34:50,583 : INFO : worker thread finished; awaiting finish of 6 more threads\n",
      "2021-08-30 13:34:50,586 : INFO : worker thread finished; awaiting finish of 5 more threads\n",
      "2021-08-30 13:34:50,589 : INFO : worker thread finished; awaiting finish of 4 more threads\n",
      "2021-08-30 13:34:50,592 : INFO : worker thread finished; awaiting finish of 3 more threads\n",
      "2021-08-30 13:34:50,596 : INFO : worker thread finished; awaiting finish of 2 more threads\n",
      "2021-08-30 13:34:50,604 : INFO : worker thread finished; awaiting finish of 1 more threads\n",
      "2021-08-30 13:34:50,608 : INFO : worker thread finished; awaiting finish of 0 more threads\n",
      "2021-08-30 13:34:50,609 : INFO : EPOCH - 5 : training on 802102 raw words (760760 effective words) took 0.8s, 901170 effective words/s\n",
      "2021-08-30 13:34:50,611 : INFO : Word2Vec lifecycle event {'msg': 'training on 4010510 raw words (3803800 effective words) took 4.6s, 820413 effective words/s', 'datetime': '2021-08-30T13:34:50.611872', 'gensim': '4.0.1', 'python': '3.8.10 (default, May 19 2021, 13:12:57) [MSC v.1916 64 bit (AMD64)]', 'platform': 'Windows-10-10.0.19043-SP0', 'event': 'train'}\n",
      "2021-08-30 13:34:50,612 : INFO : Word2Vec lifecycle event {'params': 'Word2Vec(vocab=2376, vector_size=500, alpha=0.025)', 'datetime': '2021-08-30T13:34:50.612872', 'gensim': '4.0.1', 'python': '3.8.10 (default, May 19 2021, 13:12:57) [MSC v.1916 64 bit (AMD64)]', 'platform': 'Windows-10-10.0.19043-SP0', 'event': 'created'}\n"
     ]
    }
   ],
   "metadata": {}
  },
  {
   "cell_type": "code",
   "execution_count": 192,
   "source": [
    "bible_kjv_word2vec_model.wv.index_to_key[:10]"
   ],
   "outputs": [
    {
     "output_type": "execute_result",
     "data": {
      "text/plain": [
       "['the', 'and', 'of', 'to', 'that', 'in', 'he', 'shall', 'unto', 'for']"
      ]
     },
     "metadata": {},
     "execution_count": 192
    }
   ],
   "metadata": {}
  },
  {
   "cell_type": "code",
   "execution_count": 193,
   "source": [
    "len(bible_kjv_word2vec_model.wv.index_to_key) # vocabulary size"
   ],
   "outputs": [
    {
     "output_type": "execute_result",
     "data": {
      "text/plain": [
       "2376"
      ]
     },
     "metadata": {},
     "execution_count": 193
    }
   ],
   "metadata": {}
  },
  {
   "cell_type": "code",
   "execution_count": 194,
   "source": [
    "bible_kjv_word2vec_model.wv.closer_than('christ', 'god')[:10]"
   ],
   "outputs": [
    {
     "output_type": "execute_result",
     "data": {
      "text/plain": [
       "['word', 'faith', 'grace']"
      ]
     },
     "metadata": {},
     "execution_count": 194
    }
   ],
   "metadata": {}
  },
  {
   "cell_type": "code",
   "execution_count": 195,
   "source": [
    "bible_kjv_word2vec_model.wv.most_similar([\"god\"])"
   ],
   "outputs": [
    {
     "output_type": "execute_result",
     "data": {
      "text/plain": [
       "[('glory', 0.7019674777984619),\n",
       " ('salvation', 0.6711896657943726),\n",
       " ('servant', 0.612390398979187),\n",
       " ('faith', 0.6035887002944946),\n",
       " ('christ', 0.593148410320282),\n",
       " ('name', 0.5766246914863586),\n",
       " ('covenant', 0.5583788752555847),\n",
       " ('righteousness', 0.5531595945358276),\n",
       " ('life', 0.5453025102615356),\n",
       " ('prayer', 0.5441765785217285)]"
      ]
     },
     "metadata": {},
     "execution_count": 195
    }
   ],
   "metadata": {}
  },
  {
   "cell_type": "code",
   "execution_count": 196,
   "source": [
    "bible_kjv_word2vec_model.wv.most_similar([\"christ\"])"
   ],
   "outputs": [
    {
     "output_type": "execute_result",
     "data": {
      "text/plain": [
       "[('grace', 0.6365014314651489),\n",
       " ('word', 0.6295183300971985),\n",
       " ('faith', 0.6030011773109436),\n",
       " ('god', 0.5931483507156372),\n",
       " ('glory', 0.5786944031715393),\n",
       " ('1', 0.5670055747032166),\n",
       " ('jesus', 0.5492653846740723),\n",
       " ('name', 0.522697389125824),\n",
       " ('hope', 0.5206419229507446),\n",
       " ('law', 0.5042500495910645)]"
      ]
     },
     "metadata": {},
     "execution_count": 196
    }
   ],
   "metadata": {}
  },
  {
   "cell_type": "code",
   "execution_count": 198,
   "source": [
    "bible_kjv_word2vec_model.wv.most_similar([\"jesus\"], topn=10)"
   ],
   "outputs": [
    {
     "output_type": "execute_result",
     "data": {
      "text/plain": [
       "[('david', 0.6920554041862488),\n",
       " ('john', 0.6333692073822021),\n",
       " ('saul', 0.6161122918128967),\n",
       " ('moses', 0.6160163283348083),\n",
       " ('jeremiah', 0.6041353344917297),\n",
       " ('peter', 0.6006970405578613),\n",
       " ('abraham', 0.5993061661720276),\n",
       " ('he', 0.5889864563941956),\n",
       " ('mordecai', 0.582711935043335),\n",
       " ('daniel', 0.5817904472351074)]"
      ]
     },
     "metadata": {},
     "execution_count": 198
    }
   ],
   "metadata": {}
  },
  {
   "cell_type": "code",
   "execution_count": 219,
   "source": [
    "bible_kjv_word2vec_model.wv.most_similar([\"fire\"], topn=10)"
   ],
   "outputs": [
    {
     "output_type": "execute_result",
     "data": {
      "text/plain": [
       "[('water', 0.7121521830558777),\n",
       " ('altar', 0.6784594058990479),\n",
       " ('smoke', 0.6764711141586304),\n",
       " ('rivers', 0.6665706038475037),\n",
       " ('furnace', 0.6607886552810669),\n",
       " ('whirlwind', 0.658175528049469),\n",
       " ('burning', 0.6398055553436279),\n",
       " ('waters', 0.6382758021354675),\n",
       " ('cloud', 0.6319984793663025),\n",
       " ('wood', 0.6252058744430542)]"
      ]
     },
     "metadata": {},
     "execution_count": 219
    }
   ],
   "metadata": {}
  },
  {
   "cell_type": "code",
   "execution_count": 199,
   "source": [
    "bible_kjv_word2vec_model.wv.save_word2vec_format(\"bible_word2vec_org\", \"bible_word2vec_vocabulary\")"
   ],
   "outputs": [
    {
     "output_type": "stream",
     "name": "stderr",
     "text": [
      "2021-08-30 13:35:48,659 : INFO : storing vocabulary in bible_word2vec_vocabulary\n",
      "2021-08-30 13:35:48,665 : INFO : storing 2376x500 projection weights into bible_word2vec_org\n"
     ]
    }
   ],
   "metadata": {}
  },
  {
   "cell_type": "code",
   "execution_count": 200,
   "source": [
    "bible_kjv_word2vec_model.save(\"bible_word2vec_gensim\")"
   ],
   "outputs": [
    {
     "output_type": "stream",
     "name": "stderr",
     "text": [
      "2021-08-30 13:35:49,547 : INFO : Word2Vec lifecycle event {'fname_or_handle': 'bible_word2vec_gensim', 'separately': 'None', 'sep_limit': 10485760, 'ignore': frozenset(), 'datetime': '2021-08-30T13:35:49.547846', 'gensim': '4.0.1', 'python': '3.8.10 (default, May 19 2021, 13:12:57) [MSC v.1916 64 bit (AMD64)]', 'platform': 'Windows-10-10.0.19043-SP0', 'event': 'saving'}\n",
      "2021-08-30 13:35:49,551 : INFO : not storing attribute cum_table\n",
      "2021-08-30 13:35:49,562 : INFO : saved bible_word2vec_gensim\n"
     ]
    }
   ],
   "metadata": {}
  },
  {
   "cell_type": "code",
   "execution_count": 201,
   "source": [
    "pwd"
   ],
   "outputs": [
    {
     "output_type": "execute_result",
     "data": {
      "text/plain": [
       "'c:\\\\Users\\\\andre\\\\Projects\\\\sandbox\\\\notebooks'"
      ]
     },
     "metadata": {},
     "execution_count": 201
    }
   ],
   "metadata": {}
  },
  {
   "cell_type": "code",
   "execution_count": null,
   "source": [],
   "outputs": [],
   "metadata": {}
  }
 ],
 "metadata": {
  "kernelspec": {
   "name": "python3",
   "display_name": "Python 3.8.10 64-bit ('base': conda)"
  },
  "language_info": {
   "codemirror_mode": {
    "name": "ipython",
    "version": 3
   },
   "file_extension": ".py",
   "mimetype": "text/x-python",
   "name": "python",
   "nbconvert_exporter": "python",
   "pygments_lexer": "ipython3",
   "version": "3.8.10"
  },
  "interpreter": {
   "hash": "3be4393fbdaea0d3e38eb40ac2d5883d2125b4b1de2024ee4d550ff09fb43fc4"
  }
 },
 "nbformat": 4,
 "nbformat_minor": 2
}